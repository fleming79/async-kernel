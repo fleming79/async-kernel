{
 "cells": [
  {
   "cell_type": "markdown",
   "id": "0",
   "metadata": {
    "editable": true,
    "slideshow": {
     "slide_type": ""
    },
    "tags": []
   },
   "source": [
    "# Concurrency\n",
    "\n",
    "Async kernel enables concurrent execution through the `Caller` class. \n",
    "It provides anyio compatible methods and classmethods for code execution \n",
    "in threads and asynchronous event loops. \n",
    "\n",
    "\n",
    "## Concurrency mode\n",
    "\n",
    "Every message request received by the kernel is run with a message handler using one of the run modes [listed below](#run-mode).\n",
    "The run mode is decided by the kernel method `get_run_mode`.\n",
    "\n",
    "## Run mode\n",
    "\n",
    "- blocking: Run the handler directly blocking the message loop\n",
    "- queue: Run in a queue\n",
    "- task: Run in a task\n",
    "- thread: Run in a Caller thread\n",
    "\n",
    "\n",
    "## `Kernel.get_run_mode`\n",
    "\n",
    "The kernel decides the run mode dynamically with the method [get_run_mode][async_kernel.Kernel.get_run_mode]."
   ]
  },
  {
   "cell_type": "code",
   "execution_count": null,
   "id": "1",
   "metadata": {
    "editable": true,
    "slideshow": {
     "slide_type": ""
    },
    "tags": []
   },
   "outputs": [],
   "source": [
    "from async_kernel import utils\n",
    "from async_kernel.typing import KernelConcurrencyMode, MsgType, RunMode\n",
    "\n",
    "kernel = utils.get_kernel()\n",
    "\n",
    "kernel.get_run_mode(MsgType.comm_msg)"
   ]
  },
  {
   "cell_type": "markdown",
   "id": "2",
   "metadata": {
    "editable": true,
    "slideshow": {
     "slide_type": ""
    },
    "tags": []
   },
   "source": [
    "If the `kernel.concurrency_mode` is changed, the run mode for a particluar `msg_type` might change."
   ]
  },
  {
   "cell_type": "code",
   "execution_count": null,
   "id": "3",
   "metadata": {
    "editable": true,
    "slideshow": {
     "slide_type": ""
    },
    "tags": []
   },
   "outputs": [],
   "source": [
    "kernel.concurrency_mode = KernelConcurrencyMode.blocking\n",
    "print(kernel.concurrency_mode, kernel.get_run_mode(MsgType.comm_msg))\n",
    "\n",
    "kernel.concurrency_mode = KernelConcurrencyMode.default\n",
    "print(kernel.concurrency_mode, kernel.get_run_mode(MsgType.comm_msg))"
   ]
  },
  {
   "cell_type": "markdown",
   "id": "4",
   "metadata": {
    "editable": true,
    "slideshow": {
     "slide_type": ""
    },
    "tags": []
   },
   "source": [
    "Below is a list of the run modes for the currently available concurrency modes.\n",
    "\n",
    "!!! note\n",
    "\n",
    "    `blocking` mode is roughly equivalent to how IpyKernel < 7.0 operates. "
   ]
  },
  {
   "cell_type": "code",
   "execution_count": null,
   "id": "5",
   "metadata": {
    "editable": true,
    "slideshow": {
     "slide_type": ""
    },
    "tags": []
   },
   "outputs": [],
   "source": [
    "data = kernel.all_concurrency_run_modes()\n",
    "try:\n",
    "    import pandas as pd\n",
    "except ImportError:\n",
    "    print(data)\n",
    "else:\n",
    "    data = pd.DataFrame(data)\n",
    "    data[\"RunMode\"] = data.RunMode.str.replace(\"##\", \"\")\n",
    "    data = data.pivot(index=\"MsgType\", columns=[\"KernelConcurrencyMode\", \"SocketID\"], values=\"RunMode\")  # noqa: PD010\n",
    "    display(data)"
   ]
  },
  {
   "cell_type": "markdown",
   "id": "6",
   "metadata": {
    "editable": true,
    "slideshow": {
     "slide_type": ""
    },
    "tags": []
   },
   "source": [
    "## Execute request run mode\n",
    "\n",
    "There are a few options to modify how code cells are run.\n",
    "\n",
    "- Metadata\n",
    "- [Directly in code]\n",
    "- tag\n",
    "- Message header (in custom messages)\n",
    "!!! Warning\n",
    "\n",
    "    Only Jupyter lab is known to allow concurrent execution of cells.\n",
    "\n",
    "### Code for example\n",
    "\n",
    "- **This example requires ipywidgets**\n",
    "- **Ensure you are running an async kernel**\n",
    "\n",
    "Lets define a function that we'll reuse for the remainder of the notebook."
   ]
  },
  {
   "cell_type": "code",
   "execution_count": null,
   "id": "7",
   "metadata": {
    "editable": true,
    "slideshow": {
     "slide_type": ""
    },
    "tags": []
   },
   "outputs": [],
   "source": [
    "async def demo():\n",
    "    import threading\n",
    "\n",
    "    import anyio\n",
    "    from ipywidgets import Button\n",
    "\n",
    "    from async_kernel import Caller, utils\n",
    "\n",
    "    print(\"Run mode:\", utils.get_job()[\"run_mode\"])\n",
    "\n",
    "    print(f\"Thread name: '{threading.current_thread().name}'\")\n",
    "    button = Button(description=\"Finish\")\n",
    "    event = anyio.Event()\n",
    "    caller = Caller()  # Use caller so the `##thread` example works.\n",
    "    # This is because widget messages are received by the shell in the main thread. The event is being waited in this thread.\n",
    "    button.on_click(lambda _: caller.call_no_context(event.set))\n",
    "    display(button)\n",
    "    await event.wait()\n",
    "    button.close()\n",
    "    print(f\"Finished ... thread name: '{threading.current_thread().name}'\")\n",
    "    return \"Finished\""
   ]
  },
  {
   "cell_type": "markdown",
   "id": "8",
   "metadata": {
    "editable": true,
    "slideshow": {
     "slide_type": ""
    },
    "tags": []
   },
   "source": [
    "Lets run it normally (queue)"
   ]
  },
  {
   "cell_type": "code",
   "execution_count": null,
   "id": "9",
   "metadata": {
    "editable": true,
    "slideshow": {
     "slide_type": ""
    },
    "tags": [
     "suppress-error"
    ]
   },
   "outputs": [],
   "source": [
    "await demo()"
   ]
  },
  {
   "cell_type": "code",
   "execution_count": null,
   "id": "10",
   "metadata": {
    "editable": true,
    "slideshow": {
     "slide_type": ""
    },
    "tags": [
     "suppress-error"
    ]
   },
   "outputs": [],
   "source": [
    "##queue\n",
    "# Tip: try running this cell while the previous cell is still busy.\n",
    "await demo()"
   ]
  },
  {
   "cell_type": "markdown",
   "id": "11",
   "metadata": {
    "editable": true,
    "slideshow": {
     "slide_type": ""
    },
    "tags": []
   },
   "source": [
    "### Run mode: task\n",
    "``` python\n",
    "##task\n",
    "...\n",
    "```\n",
    "\n",
    "The `task` mode instructs the kernel to execute the code in a task separate to the queue, Both `task` and `thread` execute modes can be started when the kernel is *busy executing*. There is no imposed limitation on the number of tasks (or threads) that can be run concurrently.\n",
    "\n",
    "See also the [Caller](caller.ipynb#caller) example on how to call directly."
   ]
  },
  {
   "cell_type": "code",
   "execution_count": null,
   "id": "12",
   "metadata": {
    "editable": true,
    "slideshow": {
     "slide_type": ""
    },
    "tags": [
     "suppress-error"
    ]
   },
   "outputs": [],
   "source": [
    "RunMode.task  # noqa: B018  # Using the literal `RunMode` values directly is also possible. Though it may show up as a [Flake8 B018 issue](https://docs.astral.sh/ruff/rules/useless-expression/)\n",
    "await demo()"
   ]
  },
  {
   "cell_type": "markdown",
   "id": "13",
   "metadata": {
    "editable": true,
    "slideshow": {
     "slide_type": ""
    },
    "tags": []
   },
   "source": [
    "### Run mode: thread\n",
    "``` python\n",
    "##thread\n",
    "...\n",
    "```\n"
   ]
  },
  {
   "cell_type": "code",
   "execution_count": null,
   "id": "14",
   "metadata": {
    "editable": true,
    "slideshow": {
     "slide_type": ""
    },
    "tags": [
     "thread",
     "suppress-error"
    ]
   },
   "outputs": [],
   "source": [
    "# This time we'll use the tag to run the cell in a Thread\n",
    "await demo()"
   ]
  },
  {
   "cell_type": "code",
   "execution_count": null,
   "id": "15",
   "metadata": {
    "editable": true,
    "slideshow": {
     "slide_type": ""
    },
    "tags": []
   },
   "outputs": [],
   "source": [
    "##thread\n",
    "%callers # magic provided by async kernel"
   ]
  }
 ],
 "metadata": {
  "kernelspec": {
   "display_name": "Python (async)",
   "language": "python",
   "name": "async"
  },
  "language_info": {
   "codemirror_mode": {
    "name": "ipython",
    "version": 3
   },
   "file_extension": ".py",
   "mimetype": "text/x-python",
   "name": "python",
   "nbconvert_exporter": "python",
   "pygments_lexer": "ipython3",
   "version": "3.12.8"
  }
 },
 "nbformat": 4,
 "nbformat_minor": 5
}
